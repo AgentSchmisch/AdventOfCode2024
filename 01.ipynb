{
 "cells": [
  {
   "cell_type": "markdown",
   "id": "ba8a02b1-8f50-44a6-9e6c-9e3bed9a97ce",
   "metadata": {},
   "source": [
    "# Part 1"
   ]
  },
  {
   "cell_type": "code",
   "execution_count": 58,
   "id": "2dce6ad3-9774-4c80-83ea-0a838b66364d",
   "metadata": {},
   "outputs": [],
   "source": [
    "import os\n",
    "input = \"\"\n",
    "with open(os.path.join(os.path.abspath(os.getcwd()),\"inputs\",\"01.in\")) as inputfile:\n",
    "    input = inputfile.read()\n"
   ]
  },
  {
   "cell_type": "code",
   "execution_count": 56,
   "id": "02e2ea4c-d161-4397-88d3-8d8a63b1ef5d",
   "metadata": {},
   "outputs": [
    {
     "name": "stdout",
     "output_type": "stream",
     "text": [
      "1646452\n"
     ]
    }
   ],
   "source": [
    "# split the input into the left and right column\n",
    "right_col = []\n",
    "left_col = []\n",
    "result = 0\n",
    "\n",
    "for line in input.split(\"\\n\"):\n",
    "    strings = line.split(\"   \")\n",
    "    right_col.append(int(strings[1]))\n",
    "    left_col.append(int(strings[0]))\n",
    "right_col.sort()\n",
    "left_col.sort()\n",
    "\n",
    "\n",
    "\n",
    "for item in range(0, len(right_col)):\n",
    "    calculation = int(right_col[item]) - int(left_col[item]) if int(right_col[item]) > int(right_col[item]) else int(left_col[item]) - int(right_col[item])\n",
    "    \n",
    "    result += abs(calculation)\n",
    "print(result)"
   ]
  },
  {
   "cell_type": "markdown",
   "id": "9713a0ee-37f2-42f0-b456-1d4d7c0be302",
   "metadata": {},
   "source": [
    "# Part 2"
   ]
  },
  {
   "cell_type": "code",
   "execution_count": 57,
   "id": "56cb5210-db17-4c01-a0b4-a8002bd191eb",
   "metadata": {},
   "outputs": [
    {
     "name": "stdout",
     "output_type": "stream",
     "text": [
      "23609874\n"
     ]
    }
   ],
   "source": [
    "similarity_score = 0\n",
    "for item in left_col:\n",
    "    count = 0\n",
    "    for right_item in right_col:\n",
    "        if item == right_item:\n",
    "            count += 1\n",
    "    similarity_score += item * count\n",
    "print(similarity_score)"
   ]
  }
 ],
 "metadata": {
  "kernelspec": {
   "display_name": "Python 3 (ipykernel)",
   "language": "python",
   "name": "python3"
  },
  "language_info": {
   "codemirror_mode": {
    "name": "ipython",
    "version": 3
   },
   "file_extension": ".py",
   "mimetype": "text/x-python",
   "name": "python",
   "nbconvert_exporter": "python",
   "pygments_lexer": "ipython3",
   "version": "3.11.1"
  }
 },
 "nbformat": 4,
 "nbformat_minor": 5
}
