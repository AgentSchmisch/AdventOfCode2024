{
 "cells": [
  {
   "cell_type": "markdown",
   "id": "df168cc6-d343-419c-9469-b8d2b270d5ec",
   "metadata": {},
   "source": [
    "# Part 1"
   ]
  },
  {
   "cell_type": "code",
   "execution_count": null,
   "id": "f0efc1fd-165e-4c27-b5ca-e169015d3fa2",
   "metadata": {},
   "outputs": [],
   "source": [
    "# start by reading the input file\n",
    "\n",
    "import os\n",
    "input = \"\"\n",
    "with open(os.path.join(os.path.abspath(os.getcwd()),\"inputs\",\"04.in\")) as inputfile:\n",
    "    input = inputfile.read()"
   ]
  },
  {
   "cell_type": "code",
   "execution_count": null,
   "id": "8d85c4f9-1299-4920-bec1-f760f1917104",
   "metadata": {},
   "outputs": [],
   "source": [
    "# testdata\n",
    "input = \"\"\"MMMSXXMASM\n",
    "MSAMXMSMSA\n",
    "AMXSXMAAMM\n",
    "MSAMASMSMX\n",
    "XMASAMXAMM\n",
    "XXAMMXXAMA\n",
    "SMSMSASXSS\n",
    "SAXAMASAAA\n",
    "MAMMMXMMMM\n",
    "MXMXAXMASX\"\"\""
   ]
  },
  {
   "cell_type": "code",
   "execution_count": null,
   "id": "a2b030a7-e00e-4759-a19e-f582dfaecd2e",
   "metadata": {},
   "outputs": [],
   "source": [
    "# start by finding an X, then go in all the possible directions and look for an M\n",
    "\n",
    "array = []\n",
    "for line in input.split(\"\\n\"):\n",
    "    linearray = []\n",
    "    for char in line:\n",
    "        linearray.append(char)\n",
    "    array.append(linearray)\n",
    "\n",
    "count = 0\n",
    "\n",
    "for line in range(0, len(array)):\n",
    "    for char in range(0,len(array[line])):\n",
    "        # check if there is a chance that XMAS will fit in the direction\n",
    "        # right\n",
    "        if char + 3 < len(array[line]):  \n",
    "            if array[line][char] == \"X\" and array[line][char + 1] == \"M\" and array[line][char + 2] == \"A\" and array[line][char+3] == \"S\":\n",
    "                count +=1\n",
    "        # left      \n",
    "        if char - 3 >= 0:  \n",
    "            if array[line][char] == \"X\" and array[line][char - 1] == \"M\" and array[line][char - 2] == \"A\" and array[line][char - 3] == \"S\":\n",
    "                count +=1\n",
    "        # top    \n",
    "        if line - 3 >= 0:\n",
    "            if array[line][char] == \"X\" and array[line-1][char] == \"M\" and array[line - 2][char] == \"A\" and array[line - 3][char] == \"S\":\n",
    "                count +=1\n",
    "        # bottom\n",
    "        if line + 3 < len(array):\n",
    "            if array[line][char] == \"X\" and array[line + 1][char] == \"M\" and array[line + 2][char] == \"A\" and array[line + 3][char] == \"S\":\n",
    "                count +=1\n",
    "                \n",
    "        # top right\n",
    "        if line - 3 >= 0 and char + 3 < len(array[line]):\n",
    "            if array[line][char] == \"X\" and array[line - 1][char + 1] == \"M\" and array[line - 2][char + 2] == \"A\" and array[line - 3][char + 3] == \"S\":\n",
    "                count +=1\n",
    "            \n",
    "        # top left\n",
    "        if line - 3 >= 0 and char - 3 >= 0:\n",
    "            if array[line][char] == \"X\" and array[line - 1][char - 1] == \"M\" and array[line - 2][char - 2] == \"A\" and array[line - 3][char - 3] == \"S\":\n",
    "                count +=1\n",
    "                \n",
    "        # Bottom right\n",
    "        if line + 3 < len(array) and char + 3 < len(array[line]):\n",
    "            if array[line][char] == \"X\" and array[line + 1][char + 1] == \"M\" and array[line + 2][char + 2] == \"A\" and array[line + 3][char + 3] == \"S\":\n",
    "                count +=1\n",
    "                \n",
    "        # Bottom left      \n",
    "        if line + 3 < len(array) and char - 3 >= 0:\n",
    "            if array[line][char] == \"X\" and array[line + 1][char - 1] == \"M\" and array[line + 2][char - 2] == \"A\" and array[line + 3][char - 3] == \"S\":\n",
    "                count +=1\n",
    "            \n",
    "\n",
    "\n",
    "print(count)\n",
    "\n"
   ]
  },
  {
   "cell_type": "markdown",
   "id": "f960f28a-49ab-44bd-b06c-9e4b0d954402",
   "metadata": {},
   "source": [
    "# Part 2"
   ]
  },
  {
   "cell_type": "code",
   "execution_count": null,
   "id": "c2eaa6e7-6916-4b01-b1a4-58554b6a2e42",
   "metadata": {},
   "outputs": [],
   "source": [
    "# start by finding an X, then go in all the possible directions and look for an M\n",
    "\n",
    "array = []\n",
    "for line in input.split(\"\\n\"):\n",
    "    linearray = []\n",
    "    for char in line:\n",
    "        linearray.append(char)\n",
    "    array.append(linearray)\n",
    "\n",
    "count = 0\n",
    "\n",
    "for line in range(0, len(array)):\n",
    "    for char in range(0, len(array[line])):      \n",
    "        # bottom left to top right\n",
    "        bltr = False\n",
    "        tlbr = False\n",
    "        if (line - 1 >= 0 and char + 1 < len(array[line])) and (line + 1 < len(array) and char - 1 >= 0):\n",
    "            if array[line][char] == \"A\" and ((array[line + 1][char - 1] == \"M\" and array[line - 1][char + 1] ==\"S\") or (array[line + 1][char - 1] == \"S\" and array[line - 1][char + 1] == \"M\")):\n",
    "                bltr=True\n",
    "                \n",
    "        if (line - 1 >= 0 and char - 1 >= 0) and (line + 1 < len(array) and char + 1 < len(array[line])):\n",
    "            if array[line][char] == \"A\" and ((array[line-1][char-1] == \"M\" and array[line + 1][char + 1] == \"S\") or (array[line-1][char-1] == \"S\" and array[line + 1][char + 1] == \"M\")):\n",
    "                tlbr = True\n",
    "                \n",
    "        if bltr and tlbr:\n",
    "            count += 1\n",
    "            \n",
    "print(count)\n",
    "\n"
   ]
  },
  {
   "cell_type": "code",
   "execution_count": null,
   "id": "f80b26af-259e-4964-83f9-dac7003e30bd",
   "metadata": {},
   "outputs": [],
   "source": []
  }
 ],
 "metadata": {
  "kernelspec": {
   "display_name": "Python 3 (ipykernel)",
   "language": "python",
   "name": "python3"
  },
  "language_info": {
   "codemirror_mode": {
    "name": "ipython",
    "version": 3
   },
   "file_extension": ".py",
   "mimetype": "text/x-python",
   "name": "python",
   "nbconvert_exporter": "python",
   "pygments_lexer": "ipython3",
   "version": "3.12.2"
  }
 },
 "nbformat": 4,
 "nbformat_minor": 5
}
