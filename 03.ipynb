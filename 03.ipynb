{
 "cells": [
  {
   "cell_type": "markdown",
   "id": "5aab8dce-06e5-4e07-86f9-66297e71ac4a",
   "metadata": {},
   "source": [
    "# Part 1"
   ]
  },
  {
   "cell_type": "code",
   "execution_count": null,
   "id": "ff6f98ab-0195-4eb9-bd6b-369086001e46",
   "metadata": {},
   "outputs": [],
   "source": [
    "# start by reading the input file\n",
    "\n",
    "import os\n",
    "input = \"\"\n",
    "with open(os.path.join(os.path.abspath(os.getcwd()),\"inputs\",\"03.in\")) as inputfile:\n",
    "    input = inputfile.read()"
   ]
  },
  {
   "cell_type": "code",
   "execution_count": null,
   "id": "d161dc48-e0f0-4de4-bdcc-209aef55605b",
   "metadata": {
    "scrolled": true
   },
   "outputs": [],
   "source": [
    "import re\n",
    "\n",
    "# Input string\n",
    "#input = \"xmul(2,4)%&mul[3,7]!@^do_not_mul(5,5)+mul(32,64]then(mul(11,8)mul(8,5))\"\n",
    "\n",
    "# Regex to match valid `mul(...)` patterns\n",
    "pattern = r\"mul\\(\\d{1,3},\\d{1,3}\\)\"\n",
    "\n",
    "# Find all matches\n",
    "matches = re.findall(pattern, input)\n",
    "# Print results\n",
    "print(matches)\n"
   ]
  },
  {
   "cell_type": "code",
   "execution_count": null,
   "id": "f4614831-5427-451d-b629-20ab5db4fb94",
   "metadata": {},
   "outputs": [],
   "source": [
    "res = 0\n",
    "for multiplication in matches:\n",
    "    params = multiplication.replace(\"mul(\",\"\").replace(\")\",\"\").split(\",\")\n",
    "    res += int(params[0]) * int(params[1])"
   ]
  },
  {
   "cell_type": "code",
   "execution_count": null,
   "id": "c55609c7-af95-4880-9f35-ead8022af2f6",
   "metadata": {},
   "outputs": [],
   "source": [
    "print(res)"
   ]
  },
  {
   "cell_type": "markdown",
   "id": "8331db71-9d5a-4c82-ba7d-2d47b0859a49",
   "metadata": {},
   "source": [
    "# Part 2"
   ]
  },
  {
   "cell_type": "code",
   "execution_count": null,
   "id": "5aa68c4f-4c2d-438a-b839-fb39776ec34c",
   "metadata": {
    "scrolled": true
   },
   "outputs": [],
   "source": [
    "import re\n",
    "\n",
    "# Input string\n",
    "#input = \"xmul(2,4)&mul[3,7]!^don't()_mul(5,5)+mul(32,64](mul(11,8)undo()?mul(8,5))\"\n",
    "\n",
    "# Updated regex\n",
    "pattern = r\"(mul\\(\\d{1,3},\\d{1,3}\\)|do\\(\\)|don't\\(\\))\"\n",
    "\n",
    "# Find all matches\n",
    "matches = re.findall(pattern, input)\n",
    "\n",
    "# Print results\n",
    "print(matches)\n"
   ]
  },
  {
   "cell_type": "code",
   "execution_count": null,
   "id": "0a4a0588-81c9-42a2-88d4-d44dacf7c979",
   "metadata": {},
   "outputs": [],
   "source": [
    "calculate = True\n",
    "\n",
    "res = 0\n",
    "for item in matches:\n",
    "    if item == \"don't()\":\n",
    "        calculate = False\n",
    "    elif item == \"do()\":\n",
    "        calculate = True\n",
    "        continue\n",
    "    \n",
    "    if calculate:\n",
    "        params = item.replace(\"mul(\",\"\").replace(\")\",\"\").split(\",\")\n",
    "        res += int(params[0]) * int(params[1])\n",
    "        continue\n",
    "    else:\n",
    "        continue\n",
    "print(res)"
   ]
  },
  {
   "cell_type": "code",
   "execution_count": null,
   "id": "81c820f8-ebb0-48ff-9eb6-aa8dc06eb652",
   "metadata": {},
   "outputs": [],
   "source": []
  }
 ],
 "metadata": {
  "kernelspec": {
   "display_name": "Python 3 (ipykernel)",
   "language": "python",
   "name": "python3"
  },
  "language_info": {
   "codemirror_mode": {
    "name": "ipython",
    "version": 3
   },
   "file_extension": ".py",
   "mimetype": "text/x-python",
   "name": "python",
   "nbconvert_exporter": "python",
   "pygments_lexer": "ipython3",
   "version": "3.12.2"
  }
 },
 "nbformat": 4,
 "nbformat_minor": 5
}
